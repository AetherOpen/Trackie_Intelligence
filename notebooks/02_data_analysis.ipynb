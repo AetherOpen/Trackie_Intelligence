﻿### **2. `notebooks/02_data_analysis.ipynb`**

Este notebook é usado para explorar os dados gerados pela aplicação, começando pelo banco de dados de rostos conhecidos.

**(Copie o conteúdo a seguir para as células do seu notebook `02_data_analysis.ipynb`)**

#### Célula 1: (Markdown)
```markdown
# Notebook de Análise de Dados - Trackie

Este notebook é usado para analisar os dados gerados pela aplicação, como o banco de dados de rostos conhecidos.

**Objetivos:**
1.  Listar as pessoas cadastradas no banco de dados.
2.  Contar quantas imagens de referência existem para cada pessoa.
3.  Visualizar as imagens de referência salvas.
```

#### Célula 2: (Código) - Setup e Imports
```python
import sys
import os
from pathlib import Path
import cv2
import matplotlib.pyplot as plt
import pandas as pd

# Adiciona o diretório 'src' ao path
project_root = Path(os.getcwd()).parent
src_path = project_root / "src"
if str(src_path) not in sys.path:
    sys.path.insert(0, str(src_path))

# Importa as configurações para obter o caminho do banco de dados
from trackie.config.settings import settings

# Caminho para o banco de dados de rostos
DB_PATH = project_root / settings.paths.data / "user_data" / "known_faces"

print(f"Analisando o banco de dados de rostos em: {DB_PATH}")
```

#### Célula 3: (Markdown)
```markdown
## 1. Análise do Banco de Dados de Rostos
```

#### Célula 4: (Código)
```python
face_data = []
if not DB_PATH.exists():
    print("O diretório do banco de dados de rostos ainda não existe.")
else:
    # Itera sobre cada pasta de pessoa no banco de dados
    for person_dir in DB_PATH.iterdir():
        if person_dir.is_dir():
            person_name = person_dir.name
            image_count = len(list(person_dir.glob("*.jpg"))) # Conta os arquivos .jpg
            face_data.append({"person_name": person_name, "image_count": image_count})

# Cria um DataFrame do Pandas para uma visualização clara
if face_data:
    df = pd.DataFrame(face_data)
    print("Resumo do Banco de Dados de Rostos:")
    print(df.to_string(index=False))
else:
    print("Nenhuma pessoa encontrada no banco de dados.")
```

#### Célula 5: (Markdown)
```markdown
## 2. Visualização das Imagens de Referência
```

#### Célula 6: (Código)
```python
if face_data:
    # Pega o nome da primeira pessoa da lista para visualizar
    person_to_show = face_data[0]['person_name']
    person_path = DB_PATH / person_to_show
    
    image_files = list(person_path.glob("*.jpg"))
    
    if not image_files:
        print(f"Nenhuma imagem encontrada para {person_to_show}")
    else:
        # Configura o plot para exibir as imagens
        num_images = len(image_files)
        cols = 4
        rows = (num_images + cols - 1) // cols
        
        fig, axes = plt.subplots(rows, cols, figsize=(15, 4 * rows))
        axes = axes.flatten() # Transforma a matriz de eixos em uma lista
        
        fig.suptitle(f"Imagens de Referência para: {person_to_show}", fontsize=16)
        
        for i, img_path in enumerate(image_files):
            img = cv2.imread(str(img_path))
            img_rgb = cv2.cvtColor(img, cv2.COLOR_BGR2RGB)
            axes[i].imshow(img_rgb)
            axes[i].set_title(img_path.name, fontsize=8)
            axes[i].axis('off')
            
        # Oculta eixos não utilizados
        for j in range(i + 1, len(axes)):
            axes[j].axis('off')
            
        plt.tight_layout(rect=[0, 0.03, 1, 0.95])
        plt.show()
```### **2. `notebooks/02_data_analysis.ipynb`**

Este notebook é usado para explorar os dados gerados pela aplicação, começando pelo banco de dados de rostos conhecidos.

**(Copie o conteúdo a seguir para as células do seu notebook `02_data_analysis.ipynb`)**

#### Célula 1: (Markdown)
```markdown
# Notebook de Análise de Dados - Trackie

Este notebook é usado para analisar os dados gerados pela aplicação, como o banco de dados de rostos conhecidos.

**Objetivos:**
1.  Listar as pessoas cadastradas no banco de dados.
2.  Contar quantas imagens de referência existem para cada pessoa.
3.  Visualizar as imagens de referência salvas.
```

#### Célula 2: (Código) - Setup e Imports
```python
import sys
import os
from pathlib import Path
import cv2
import matplotlib.pyplot as plt
import pandas as pd

# Adiciona o diretório 'src' ao path
project_root = Path(os.getcwd()).parent
src_path = project_root / "src"
if str(src_path) not in sys.path:
    sys.path.insert(0, str(src_path))

# Importa as configurações para obter o caminho do banco de dados
from trackie.config.settings import settings

# Caminho para o banco de dados de rostos
DB_PATH = project_root / settings.paths.data / "user_data" / "known_faces"

print(f"Analisando o banco de dados de rostos em: {DB_PATH}")
```

#### Célula 3: (Markdown)
```markdown
## 1. Análise do Banco de Dados de Rostos
```

#### Célula 4: (Código)
```python
face_data = []
if not DB_PATH.exists():
    print("O diretório do banco de dados de rostos ainda não existe.")
else:
    # Itera sobre cada pasta de pessoa no banco de dados
    for person_dir in DB_PATH.iterdir():
        if person_dir.is_dir():
            person_name = person_dir.name
            image_count = len(list(person_dir.glob("*.jpg"))) # Conta os arquivos .jpg
            face_data.append({"person_name": person_name, "image_count": image_count})

# Cria um DataFrame do Pandas para uma visualização clara
if face_data:
    df = pd.DataFrame(face_data)
    print("Resumo do Banco de Dados de Rostos:")
    print(df.to_string(index=False))
else:
    print("Nenhuma pessoa encontrada no banco de dados.")
```

#### Célula 5: (Markdown)
```markdown
## 2. Visualização das Imagens de Referência
```

#### Célula 6: (Código)
```python
if face_data:
    # Pega o nome da primeira pessoa da lista para visualizar
    person_to_show = face_data[0]['person_name']
    person_path = DB_PATH / person_to_show
    
    image_files = list(person_path.glob("*.jpg"))
    
    if not image_files:
        print(f"Nenhuma imagem encontrada para {person_to_show}")
    else:
        # Configura o plot para exibir as imagens
        num_images = len(image_files)
        cols = 4
        rows = (num_images + cols - 1) // cols
        
        fig, axes = plt.subplots(rows, cols, figsize=(15, 4 * rows))
        axes = axes.flatten() # Transforma a matriz de eixos em uma lista
        
        fig.suptitle(f"Imagens de Referência para: {person_to_show}", fontsize=16)
        
        for i, img_path in enumerate(image_files):
            img = cv2.imread(str(img_path))
            img_rgb = cv2.cvtColor(img, cv2.COLOR_BGR2RGB)
            axes[i].imshow(img_rgb)
            axes[i].set_title(img_path.name, fontsize=8)
            axes[i].axis('off')
            
        # Oculta eixos não utilizados
        for j in range(i + 1, len(axes)):
            axes[j].axis('off')
            
        plt.tight_layout(rect=[0, 0.03, 1, 0.95])
        plt.show()
```